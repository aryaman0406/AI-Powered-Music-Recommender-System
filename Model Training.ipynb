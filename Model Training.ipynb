{
 "cells": [
  {
   "cell_type": "code",
   "execution_count": 136,
   "id": "50ac34ed",
   "metadata": {},
   "outputs": [],
   "source": [
    "import pandas as pd"
   ]
  },
  {
   "cell_type": "code",
   "execution_count": 137,
   "id": "8d218487",
   "metadata": {},
   "outputs": [],
   "source": [
    "df = pd.read_csv(\"ex.csv\")"
   ]
  },
  {
   "cell_type": "code",
   "execution_count": 138,
   "id": "79919672",
   "metadata": {},
   "outputs": [
    {
     "data": {
      "text/html": [
       "<div>\n",
       "<style scoped>\n",
       "    .dataframe tbody tr th:only-of-type {\n",
       "        vertical-align: middle;\n",
       "    }\n",
       "\n",
       "    .dataframe tbody tr th {\n",
       "        vertical-align: top;\n",
       "    }\n",
       "\n",
       "    .dataframe thead th {\n",
       "        text-align: right;\n",
       "    }\n",
       "</style>\n",
       "<table border=\"1\" class=\"dataframe\">\n",
       "  <thead>\n",
       "    <tr style=\"text-align: right;\">\n",
       "      <th></th>\n",
       "      <th>Song-Name</th>\n",
       "      <th>Singer/Artists</th>\n",
       "      <th>Genre</th>\n",
       "      <th>Album/Movie</th>\n",
       "      <th>User-Rating</th>\n",
       "    </tr>\n",
       "  </thead>\n",
       "  <tbody>\n",
       "    <tr>\n",
       "      <th>0</th>\n",
       "      <td>Aankh Marey</td>\n",
       "      <td>Kumar Sanu, Mika Singh, Neha Kakkar</td>\n",
       "      <td>BollywoodDance</td>\n",
       "      <td>Simmba</td>\n",
       "      <td>8.8/10</td>\n",
       "    </tr>\n",
       "    <tr>\n",
       "      <th>1</th>\n",
       "      <td>Coca Cola</td>\n",
       "      <td>Neha Kakkar, Tony Kakkar</td>\n",
       "      <td>BollywoodDanceRomantic</td>\n",
       "      <td>Luka Chuppi</td>\n",
       "      <td>9.0/10</td>\n",
       "    </tr>\n",
       "    <tr>\n",
       "      <th>2</th>\n",
       "      <td>Apna Time Aayega</td>\n",
       "      <td>Ranveer Singh</td>\n",
       "      <td>BollywoodDance</td>\n",
       "      <td>Gully Boy</td>\n",
       "      <td>9.7/10</td>\n",
       "    </tr>\n",
       "    <tr>\n",
       "      <th>3</th>\n",
       "      <td>Mungda</td>\n",
       "      <td>Jyotica Tangri, Shaan, Subhro Ganguly</td>\n",
       "      <td>BollywoodDance</td>\n",
       "      <td>Total Dhamaal</td>\n",
       "      <td>9.1/10</td>\n",
       "    </tr>\n",
       "    <tr>\n",
       "      <th>4</th>\n",
       "      <td>Tere Bin</td>\n",
       "      <td>Asees Kaur, Rahat Fateh Ali Khan, Tanishk Bagchi</td>\n",
       "      <td>BollywoodRomantic</td>\n",
       "      <td>Simmba</td>\n",
       "      <td>9.2/10</td>\n",
       "    </tr>\n",
       "  </tbody>\n",
       "</table>\n",
       "</div>"
      ],
      "text/plain": [
       "          Song-Name                                    Singer/Artists  \\\n",
       "0       Aankh Marey               Kumar Sanu, Mika Singh, Neha Kakkar   \n",
       "1         Coca Cola                          Neha Kakkar, Tony Kakkar   \n",
       "2  Apna Time Aayega                                     Ranveer Singh   \n",
       "3            Mungda             Jyotica Tangri, Shaan, Subhro Ganguly   \n",
       "4          Tere Bin  Asees Kaur, Rahat Fateh Ali Khan, Tanishk Bagchi   \n",
       "\n",
       "                    Genre    Album/Movie User-Rating  \n",
       "0          BollywoodDance         Simmba      8.8/10  \n",
       "1  BollywoodDanceRomantic    Luka Chuppi      9.0/10  \n",
       "2          BollywoodDance      Gully Boy      9.7/10  \n",
       "3          BollywoodDance  Total Dhamaal      9.1/10  \n",
       "4       BollywoodRomantic         Simmba      9.2/10  "
      ]
     },
     "execution_count": 138,
     "metadata": {},
     "output_type": "execute_result"
    }
   ],
   "source": [
    "df.head(5)"
   ]
  },
  {
   "cell_type": "code",
   "execution_count": 139,
   "id": "b61c723f",
   "metadata": {},
   "outputs": [
    {
     "data": {
      "text/html": [
       "<div>\n",
       "<style scoped>\n",
       "    .dataframe tbody tr th:only-of-type {\n",
       "        vertical-align: middle;\n",
       "    }\n",
       "\n",
       "    .dataframe tbody tr th {\n",
       "        vertical-align: top;\n",
       "    }\n",
       "\n",
       "    .dataframe thead th {\n",
       "        text-align: right;\n",
       "    }\n",
       "</style>\n",
       "<table border=\"1\" class=\"dataframe\">\n",
       "  <thead>\n",
       "    <tr style=\"text-align: right;\">\n",
       "      <th></th>\n",
       "      <th>Song-Name</th>\n",
       "      <th>Singer/Artists</th>\n",
       "      <th>Genre</th>\n",
       "      <th>Album/Movie</th>\n",
       "      <th>User-Rating</th>\n",
       "    </tr>\n",
       "  </thead>\n",
       "  <tbody>\n",
       "    <tr>\n",
       "      <th>2415</th>\n",
       "      <td>Jana Tumhare Pyar Mein</td>\n",
       "      <td>Mukesh</td>\n",
       "      <td>BollywoodDance</td>\n",
       "      <td>Sasural</td>\n",
       "      <td>6.2/10</td>\n",
       "    </tr>\n",
       "    <tr>\n",
       "      <th>2416</th>\n",
       "      <td>Tum Jaise Bigde Babu Se</td>\n",
       "      <td>Lata Mangeshkar</td>\n",
       "      <td>BollywoodDance</td>\n",
       "      <td>Jab Pyar Kisi Se Hota Hai</td>\n",
       "      <td>7.2/10</td>\n",
       "    </tr>\n",
       "    <tr>\n",
       "      <th>2417</th>\n",
       "      <td>O Yaad Nahi Bhool Gaya</td>\n",
       "      <td>Lata Mangeshkar, Suresh Wadkar</td>\n",
       "      <td>BollywoodDance</td>\n",
       "      <td>Lamhe</td>\n",
       "      <td>7.5/10</td>\n",
       "    </tr>\n",
       "    <tr>\n",
       "      <th>2418</th>\n",
       "      <td>Ladi Re Ladi Tujhse Aankh Jo Ladi</td>\n",
       "      <td>Jagjit Kaur</td>\n",
       "      <td>BollywoodDance</td>\n",
       "      <td>Shola Aur Shabnam</td>\n",
       "      <td>6.5/10</td>\n",
       "    </tr>\n",
       "    <tr>\n",
       "      <th>2419</th>\n",
       "      <td>Mummy Aur Daddy Mein Ladai Ho Gayi</td>\n",
       "      <td>Asha Bhosle</td>\n",
       "      <td>BollywoodDance</td>\n",
       "      <td>Shola Aur Shabnam</td>\n",
       "      <td>6.6/10</td>\n",
       "    </tr>\n",
       "  </tbody>\n",
       "</table>\n",
       "</div>"
      ],
      "text/plain": [
       "                               Song-Name                  Singer/Artists  \\\n",
       "2415              Jana Tumhare Pyar Mein                          Mukesh   \n",
       "2416             Tum Jaise Bigde Babu Se                 Lata Mangeshkar   \n",
       "2417              O Yaad Nahi Bhool Gaya  Lata Mangeshkar, Suresh Wadkar   \n",
       "2418   Ladi Re Ladi Tujhse Aankh Jo Ladi                     Jagjit Kaur   \n",
       "2419  Mummy Aur Daddy Mein Ladai Ho Gayi                     Asha Bhosle   \n",
       "\n",
       "               Genre                Album/Movie User-Rating  \n",
       "2415  BollywoodDance                    Sasural      6.2/10  \n",
       "2416  BollywoodDance  Jab Pyar Kisi Se Hota Hai      7.2/10  \n",
       "2417  BollywoodDance                      Lamhe      7.5/10  \n",
       "2418  BollywoodDance          Shola Aur Shabnam      6.5/10  \n",
       "2419  BollywoodDance          Shola Aur Shabnam      6.6/10  "
      ]
     },
     "execution_count": 139,
     "metadata": {},
     "output_type": "execute_result"
    }
   ],
   "source": [
    "df.tail(5)"
   ]
  },
  {
   "cell_type": "code",
   "execution_count": 140,
   "id": "d7d8fa2a",
   "metadata": {},
   "outputs": [
    {
     "data": {
      "text/plain": [
       "(2420, 5)"
      ]
     },
     "execution_count": 140,
     "metadata": {},
     "output_type": "execute_result"
    }
   ],
   "source": [
    "df.shape"
   ]
  },
  {
   "cell_type": "code",
   "execution_count": 141,
   "id": "a8fdecf9",
   "metadata": {},
   "outputs": [
    {
     "data": {
      "text/plain": [
       "Song-Name          0\n",
       "Singer/Artists    10\n",
       "Genre              0\n",
       "Album/Movie        3\n",
       "User-Rating        0\n",
       "dtype: int64"
      ]
     },
     "execution_count": 141,
     "metadata": {},
     "output_type": "execute_result"
    }
   ],
   "source": [
    "df.isnull().sum()"
   ]
  },
  {
   "cell_type": "code",
   "execution_count": 142,
   "id": "dde3d24b",
   "metadata": {},
   "outputs": [],
   "source": [
    "if 'link' in df.columns:\n",
    "    df = df.drop('link', axis=1)\n",
    "\n",
    "df = df.sample(min(5000, len(df)), replace=False).reset_index(drop=True)\n"
   ]
  },
  {
   "cell_type": "code",
   "execution_count": 143,
   "id": "cf5ff69f",
   "metadata": {},
   "outputs": [
    {
     "data": {
      "text/html": [
       "<div>\n",
       "<style scoped>\n",
       "    .dataframe tbody tr th:only-of-type {\n",
       "        vertical-align: middle;\n",
       "    }\n",
       "\n",
       "    .dataframe tbody tr th {\n",
       "        vertical-align: top;\n",
       "    }\n",
       "\n",
       "    .dataframe thead th {\n",
       "        text-align: right;\n",
       "    }\n",
       "</style>\n",
       "<table border=\"1\" class=\"dataframe\">\n",
       "  <thead>\n",
       "    <tr style=\"text-align: right;\">\n",
       "      <th></th>\n",
       "      <th>Song-Name</th>\n",
       "      <th>Singer/Artists</th>\n",
       "      <th>Genre</th>\n",
       "      <th>Album/Movie</th>\n",
       "      <th>User-Rating</th>\n",
       "    </tr>\n",
       "  </thead>\n",
       "  <tbody>\n",
       "    <tr>\n",
       "      <th>0</th>\n",
       "      <td>Mannat</td>\n",
       "      <td>Keerthi Sagathia, Shreya Ghoshal, Sonu Nigam</td>\n",
       "      <td>BollywoodDance</td>\n",
       "      <td>Daawat e Ishq</td>\n",
       "      <td>9.3/10</td>\n",
       "    </tr>\n",
       "    <tr>\n",
       "      <th>1</th>\n",
       "      <td>Yaara O Yaara</td>\n",
       "      <td>Lata Mangeshkar, Suresh Wadkar</td>\n",
       "      <td>BollywoodSad</td>\n",
       "      <td>Ram Teri Ganga Maili</td>\n",
       "      <td>8.4/10</td>\n",
       "    </tr>\n",
       "    <tr>\n",
       "      <th>2</th>\n",
       "      <td>Ishq Hai Ishq Hai</td>\n",
       "      <td>Jayshree Shivram</td>\n",
       "      <td>BollywoodSad</td>\n",
       "      <td>Ishq</td>\n",
       "      <td>8.6/10</td>\n",
       "    </tr>\n",
       "    <tr>\n",
       "      <th>3</th>\n",
       "      <td>Naina</td>\n",
       "      <td>Rahat Fateh Ali Khan</td>\n",
       "      <td>BollywoodSad</td>\n",
       "      <td>Omkara</td>\n",
       "      <td>9.2/10</td>\n",
       "    </tr>\n",
       "    <tr>\n",
       "      <th>4</th>\n",
       "      <td>Mehndi Laga Ke Rakhna</td>\n",
       "      <td>Lata Mangeshkar, Udit Narayan</td>\n",
       "      <td>BollywoodDance</td>\n",
       "      <td>Dilwale Dulhania Le Jayenge</td>\n",
       "      <td>9.2/10</td>\n",
       "    </tr>\n",
       "    <tr>\n",
       "      <th>5</th>\n",
       "      <td>Suit Suit</td>\n",
       "      <td>Arjun, Guru Randhawa</td>\n",
       "      <td>BollywoodDance</td>\n",
       "      <td>Hindi Medium</td>\n",
       "      <td>9.0/10</td>\n",
       "    </tr>\n",
       "    <tr>\n",
       "      <th>6</th>\n",
       "      <td>Woh Chand Jaisi Ladki</td>\n",
       "      <td>Udit Narayan</td>\n",
       "      <td>BollywoodRomantic</td>\n",
       "      <td>Devdas</td>\n",
       "      <td>9.4/10</td>\n",
       "    </tr>\n",
       "    <tr>\n",
       "      <th>7</th>\n",
       "      <td>Morey Piya</td>\n",
       "      <td>Udit Narayan</td>\n",
       "      <td>BollywoodRomantic</td>\n",
       "      <td>Devdas</td>\n",
       "      <td>9.1/10</td>\n",
       "    </tr>\n",
       "    <tr>\n",
       "      <th>8</th>\n",
       "      <td>Angelina</td>\n",
       "      <td>Sonu Nigam</td>\n",
       "      <td>BollywoodRomantic</td>\n",
       "      <td>Baa Baaa Black Sheep</td>\n",
       "      <td>8.2/10</td>\n",
       "    </tr>\n",
       "    <tr>\n",
       "      <th>9</th>\n",
       "      <td>Say “Shava Shava”</td>\n",
       "      <td>Aadesh, Alka Yagnik, Amitabh Bachchan, Sudesh ...</td>\n",
       "      <td>BollywoodDance</td>\n",
       "      <td>Kabhi Khushi Kabhie Gham</td>\n",
       "      <td>9.1/10</td>\n",
       "    </tr>\n",
       "  </tbody>\n",
       "</table>\n",
       "</div>"
      ],
      "text/plain": [
       "               Song-Name                                     Singer/Artists  \\\n",
       "0                 Mannat       Keerthi Sagathia, Shreya Ghoshal, Sonu Nigam   \n",
       "1          Yaara O Yaara                     Lata Mangeshkar, Suresh Wadkar   \n",
       "2      Ishq Hai Ishq Hai                                   Jayshree Shivram   \n",
       "3                  Naina                               Rahat Fateh Ali Khan   \n",
       "4  Mehndi Laga Ke Rakhna                      Lata Mangeshkar, Udit Narayan   \n",
       "5              Suit Suit                               Arjun, Guru Randhawa   \n",
       "6  Woh Chand Jaisi Ladki                                       Udit Narayan   \n",
       "7             Morey Piya                                       Udit Narayan   \n",
       "8               Angelina                                         Sonu Nigam   \n",
       "9      Say “Shava Shava”  Aadesh, Alka Yagnik, Amitabh Bachchan, Sudesh ...   \n",
       "\n",
       "               Genre                  Album/Movie User-Rating  \n",
       "0     BollywoodDance                Daawat e Ishq      9.3/10  \n",
       "1       BollywoodSad         Ram Teri Ganga Maili      8.4/10  \n",
       "2       BollywoodSad                         Ishq      8.6/10  \n",
       "3       BollywoodSad                       Omkara      9.2/10  \n",
       "4     BollywoodDance  Dilwale Dulhania Le Jayenge      9.2/10  \n",
       "5     BollywoodDance                 Hindi Medium      9.0/10  \n",
       "6  BollywoodRomantic                       Devdas      9.4/10  \n",
       "7  BollywoodRomantic                       Devdas      9.1/10  \n",
       "8  BollywoodRomantic         Baa Baaa Black Sheep      8.2/10  \n",
       "9     BollywoodDance     Kabhi Khushi Kabhie Gham      9.1/10  "
      ]
     },
     "execution_count": 143,
     "metadata": {},
     "output_type": "execute_result"
    }
   ],
   "source": [
    "df.head(10)"
   ]
  },
  {
   "cell_type": "code",
   "execution_count": 144,
   "id": "26eb5b1c",
   "metadata": {},
   "outputs": [
    {
     "name": "stdout",
     "output_type": "stream",
     "text": [
      "Column 'text' not found in DataFrame\n"
     ]
    }
   ],
   "source": [
    "if 'text' in df.columns:\n",
    "    print(df['text'][0])\n",
    "else:\n",
    "    print(\"Column 'text' not found in DataFrame\")\n"
   ]
  },
  {
   "cell_type": "code",
   "execution_count": 145,
   "id": "dc76d0f4",
   "metadata": {},
   "outputs": [],
   "source": [
    "# df = df.sample(5000)"
   ]
  },
  {
   "cell_type": "code",
   "execution_count": 146,
   "id": "4a0c4186",
   "metadata": {},
   "outputs": [
    {
     "data": {
      "text/plain": [
       "(2420, 5)"
      ]
     },
     "execution_count": 146,
     "metadata": {},
     "output_type": "execute_result"
    }
   ],
   "source": [
    "df.shape"
   ]
  },
  {
   "cell_type": "markdown",
   "id": "865afecc",
   "metadata": {},
   "source": [
    "Text Cleaning/ Text Preprocessing"
   ]
  },
  {
   "cell_type": "code",
   "execution_count": 147,
   "id": "b2359525",
   "metadata": {},
   "outputs": [
    {
     "name": "stdout",
     "output_type": "stream",
     "text": [
      "⚠️ Warning: Column 'text' not found in DataFrame!\n"
     ]
    }
   ],
   "source": [
    "if 'text' in df.columns:\n",
    "    df['text'] = df['text'].str.lower().replace(r'^\\w\\s', ' ').replace(r'\\n', ' ', regex=True)\n",
    "else:\n",
    "    print(\"⚠️ Warning: Column 'text' not found in DataFrame!\")\n"
   ]
  },
  {
   "cell_type": "code",
   "execution_count": 148,
   "id": "7e78451e",
   "metadata": {},
   "outputs": [],
   "source": [
    "import nltk\n",
    "from nltk.stem.porter import PorterStemmer\n",
    "stemmer = PorterStemmer()\n",
    "\n",
    "def tokenization(txt):\n",
    "    tokens = nltk.word_tokenize(txt)\n",
    "    stemming = [stemmer.stem(w) for w in tokens]\n",
    "    return \" \".join(stemming)"
   ]
  },
  {
   "cell_type": "code",
   "execution_count": 149,
   "id": "f5c1ece2",
   "metadata": {},
   "outputs": [],
   "source": [
    "from nltk.tokenize import word_tokenize\n",
    "\n",
    "def tokenization(text):\n",
    "    return word_tokenize(text.lower())  # Example tokenizer\n"
   ]
  },
  {
   "cell_type": "code",
   "execution_count": 150,
   "id": "95fc3be2",
   "metadata": {},
   "outputs": [
    {
     "name": "stderr",
     "output_type": "stream",
     "text": [
      "[nltk_data] Downloading package punkt to\n",
      "[nltk_data]     C:\\Users\\Dell\\AppData\\Roaming\\nltk_data...\n",
      "[nltk_data]   Package punkt is already up-to-date!\n"
     ]
    }
   ],
   "source": [
    "import nltk\n",
    "nltk.download('punkt')\n",
    "\n",
    "from sklearn.feature_extraction.text import TfidfVectorizer\n",
    "from sklearn.metrics.pairwise import cosine_similarity"
   ]
  },
  {
   "cell_type": "code",
   "execution_count": 151,
   "id": "f4945e8f",
   "metadata": {},
   "outputs": [
    {
     "name": "stdout",
     "output_type": "stream",
     "text": [
      "⚠️ Error: Column 'text' not found in DataFrame. Check your data.\n"
     ]
    }
   ],
   "source": [
    "if 'text' in df.columns:\n",
    "    tfidvector = TfidfVectorizer(analyzer='word', stop_words='english')\n",
    "    matrix = tfidvector.fit_transform(df['text'])\n",
    "    similarity = cosine_similarity(matrix)\n",
    "else:\n",
    "    print(\"⚠️ Error: Column 'text' not found in DataFrame. Check your data.\")\n"
   ]
  },
  {
   "cell_type": "code",
   "execution_count": 152,
   "id": "c1794772",
   "metadata": {},
   "outputs": [
    {
     "name": "stdout",
     "output_type": "stream",
     "text": [
      "⚠️ Error: Column 'text' not found. Cannot compute similarity.\n"
     ]
    }
   ],
   "source": [
    "if 'text' in df.columns:\n",
    "    tfidvector = TfidfVectorizer(analyzer='word', stop_words='english')\n",
    "    matrix = tfidvector.fit_transform(df['text'])\n",
    "    similarity = cosine_similarity(matrix)\n",
    "    print(\"Similarity matrix computed successfully!\")\n",
    "else:\n",
    "    print(\"⚠️ Error: Column 'text' not found. Cannot compute similarity.\")\n",
    "    similarity = None  # Prevents NameError\n"
   ]
  },
  {
   "cell_type": "code",
   "execution_count": 153,
   "id": "a6221770",
   "metadata": {},
   "outputs": [
    {
     "data": {
      "text/html": [
       "<div>\n",
       "<style scoped>\n",
       "    .dataframe tbody tr th:only-of-type {\n",
       "        vertical-align: middle;\n",
       "    }\n",
       "\n",
       "    .dataframe tbody tr th {\n",
       "        vertical-align: top;\n",
       "    }\n",
       "\n",
       "    .dataframe thead th {\n",
       "        text-align: right;\n",
       "    }\n",
       "</style>\n",
       "<table border=\"1\" class=\"dataframe\">\n",
       "  <thead>\n",
       "    <tr style=\"text-align: right;\">\n",
       "      <th></th>\n",
       "      <th>Song-Name</th>\n",
       "      <th>Singer/Artists</th>\n",
       "      <th>Genre</th>\n",
       "      <th>Album/Movie</th>\n",
       "      <th>User-Rating</th>\n",
       "    </tr>\n",
       "  </thead>\n",
       "  <tbody>\n",
       "  </tbody>\n",
       "</table>\n",
       "</div>"
      ],
      "text/plain": [
       "Empty DataFrame\n",
       "Columns: [Song-Name, Singer/Artists, Genre, Album/Movie, User-Rating]\n",
       "Index: []"
      ]
     },
     "execution_count": 153,
     "metadata": {},
     "output_type": "execute_result"
    }
   ],
   "source": [
    "df[df['Song-Name'] == 'Crying Over You']\n"
   ]
  },
  {
   "cell_type": "code",
   "execution_count": 154,
   "id": "5aaa2361",
   "metadata": {},
   "outputs": [],
   "source": [
    "def recommendation(song_df):\n",
    "    idx = df[df['song'] == song_df].index[0]\n",
    "    distances = sorted(list(enumerate(similarity[idx])),reverse=True,key=lambda x:x[1])\n",
    "    \n",
    "    songs = []\n",
    "    for m_id in distances[1:21]:\n",
    "        songs.append(df.iloc[m_id[0]].song)\n",
    "        \n",
    "    return songs"
   ]
  },
  {
   "cell_type": "code",
   "execution_count": 155,
   "id": "216c25bb",
   "metadata": {},
   "outputs": [
    {
     "name": "stdout",
     "output_type": "stream",
     "text": [
      "['Mannat' 'Yaara O Yaara' 'Ishq Hai Ishq Hai' ...\n",
      " 'Party On My Mind (Remix)' 'Gunja Re Chandan'\n",
      " 'Tere Bina Zindagi Se Koi Shikwa To Nahin']\n",
      "Empty DataFrame\n",
      "Columns: [Song-Name, Singer/Artists, Genre, Album/Movie, User-Rating]\n",
      "Index: []\n"
     ]
    }
   ],
   "source": [
    "print(df['Song-Name'].unique())  # Print all song names\n",
    "print(df[df['Song-Name'] == \"Crying Over You\"])  # Check if the song exists\n"
   ]
  },
  {
   "cell_type": "code",
   "execution_count": 156,
   "id": "18192437",
   "metadata": {},
   "outputs": [],
   "source": [
    "import pickle\n",
    "pickle.dump(similarity,open('similarity.pkl','wb'))\n",
    "pickle.dump(df,open('df.pkl','wb'))"
   ]
  },
  {
   "cell_type": "code",
   "execution_count": null,
   "id": "e7edcf20",
   "metadata": {},
   "outputs": [],
   "source": []
  }
 ],
 "metadata": {
  "kernelspec": {
   "display_name": "Python 3",
   "language": "python",
   "name": "python3"
  },
  "language_info": {
   "codemirror_mode": {
    "name": "ipython",
    "version": 3
   },
   "file_extension": ".py",
   "mimetype": "text/x-python",
   "name": "python",
   "nbconvert_exporter": "python",
   "pygments_lexer": "ipython3",
   "version": "3.12.4"
  }
 },
 "nbformat": 4,
 "nbformat_minor": 5
}
